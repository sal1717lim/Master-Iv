{
  "nbformat": 4,
  "nbformat_minor": 5,
  "metadata": {
    "kernelspec": {
      "display_name": "Python 3",
      "language": "python",
      "name": "python3"
    },
    "language_info": {
      "codemirror_mode": {
        "name": "ipython",
        "version": 3
      },
      "file_extension": ".py",
      "mimetype": "text/x-python",
      "name": "python",
      "nbconvert_exporter": "python",
      "pygments_lexer": "ipython3",
      "version": "3.8.0"
    },
    "colab": {
      "name": "TP1.ipynb",
      "provenance": []
    }
  },
  "cells": [
    {
      "cell_type": "markdown",
      "metadata": {
        "id": "unnecessary-reservation"
      },
      "source": [
        "<h3>TP 1: Régression Linéaire<h3>"
      ],
      "id": "unnecessary-reservation"
    },
    {
      "cell_type": "markdown",
      "metadata": {
        "id": "suffering-frontier"
      },
      "source": [
        "**1)Définition du ptoblème:**  \n",
        "Estimation de la droite associée à la direction du mouvement du piéton ie.  \n",
        "Prédire la valeur de y en fonction de x: y=f(x) --> un problème de régression."
      ],
      "id": "suffering-frontier"
    },
    {
      "cell_type": "code",
      "metadata": {
        "id": "painted-cream"
      },
      "source": [
        "\"\"\"\n",
        "Name : tp_1.py\n",
        "Author : Chayma Zatout\n",
        "Contact : github.com/ChaymaZatout\n",
        "\"\"\"\n",
        "from PIL import Image\n",
        "import numpy as np\n",
        "from sklearn.linear_model import LinearRegression\n",
        "from sklearn.metrics import mean_squared_error, r2_score\n",
        "import matplotlib.pyplot as plt\n",
        "%matplotlib notebook"
      ],
      "id": "painted-cream",
      "execution_count": null,
      "outputs": []
    },
    {
      "cell_type": "code",
      "metadata": {
        "colab": {
          "base_uri": "https://localhost:8080/"
        },
        "id": "L8JtomYPMoHZ",
        "outputId": "3b5807a3-ffeb-42b8-ebb4-57a63d474e92"
      },
      "source": [
        "from google.colab import drive\n",
        "drive.mount('/content/drive')"
      ],
      "id": "L8JtomYPMoHZ",
      "execution_count": null,
      "outputs": [
        {
          "output_type": "stream",
          "text": [
            "Mounted at /content/drive\n"
          ],
          "name": "stdout"
        }
      ]
    },
    {
      "cell_type": "code",
      "metadata": {
        "id": "independent-tongue"
      },
      "source": [
        "# get images path:\n",
        "def get_paths(path):\n",
        "    imgs = []\n",
        "    import os\n",
        "    for file in os.listdir(path):\n",
        "        if file.endswith(\".png\"): #consider png files\n",
        "            imgs.append(os.path.join(path, file))\n",
        "    return imgs"
      ],
      "id": "independent-tongue",
      "execution_count": null,
      "outputs": []
    },
    {
      "cell_type": "code",
      "metadata": {
        "id": "grave-stick"
      },
      "source": [
        "# compute the index of the lowest white pixel:\n",
        "def pretraitement(path):\n",
        "    img = Image.open(path) # Read image\n",
        "    img = np.array(img) # convert into numpy array\n",
        "\n",
        "    result = np.where(img == 255) # get all white pixels\n",
        "    rows = result[0] \n",
        "    columns = result[1]\n",
        "    y = np.max(rows) # get the lowest pixel\n",
        "    x = columns[np.argmax(rows)] # get x\n",
        "    return x, y"
      ],
      "id": "grave-stick",
      "execution_count": null,
      "outputs": []
    },
    {
      "cell_type": "code",
      "metadata": {
        "id": "integral-integration"
      },
      "source": [
        "# construct the dataset from a given directory:\n",
        "def get_data(path):\n",
        "    imgs = get_paths(path)# get all images\n",
        "    yy = []\n",
        "    xx = []\n",
        "\n",
        "    for img in imgs:\n",
        "        x, y = pretraitement(img)\n",
        "        xx.append(x)\n",
        "        yy.append(y)\n",
        "    return np.array(xx), np.array(yy)"
      ],
      "id": "integral-integration",
      "execution_count": null,
      "outputs": []
    },
    {
      "cell_type": "markdown",
      "metadata": {
        "id": "7nwT0EWlNnb9"
      },
      "source": [
        "**1.1)partition des données:**\n",
        "\n",
        "\n",
        "80% :train\n",
        "\n",
        "20% : test"
      ],
      "id": "7nwT0EWlNnb9"
    },
    {
      "cell_type": "code",
      "metadata": {
        "id": "d0Xbn25tN3hR"
      },
      "source": [
        "import os \n",
        "import shutil\n",
        "train=\"./drive/MyDrive/work/M1/IA 3/train\"\n",
        "test=\"./drive/MyDrive/work/M1/IA 3/test\"\n",
        "from sklearn.model_selection import train_test_split\n"
      ],
      "id": "d0Xbn25tN3hR",
      "execution_count": null,
      "outputs": []
    },
    {
      "cell_type": "markdown",
      "metadata": {
        "id": "inside-congress"
      },
      "source": [
        "**2) Préparation de données:**  \n",
        "A partir des images, nous allons:  \n",
        "- repérer le pixel blanc le plus bas.  \n",
        "- récupérer les indices x, y\n",
        "- construit le dataset  \n",
        "  \n",
        "PS: la partitionnement en ensemble d'apprentissage/test est mentionné dans l'énoncé"
      ],
      "id": "inside-congress"
    },
    {
      "cell_type": "code",
      "metadata": {
        "id": "growing-flood"
      },
      "source": [
        "x, y = get_data(train) \n",
        "x = x.reshape(-1, 1)"
      ],
      "id": "growing-flood",
      "execution_count": null,
      "outputs": []
    },
    {
      "cell_type": "markdown",
      "metadata": {
        "id": "discrete-secondary"
      },
      "source": [
        "**3) Sélection du modèle:**  \n",
        "Nous allons choisir la régression linéaire:"
      ],
      "id": "discrete-secondary"
    },
    {
      "cell_type": "code",
      "metadata": {
        "id": "thousand-david",
        "colab": {
          "base_uri": "https://localhost:8080/"
        },
        "outputId": "878f058f-4a88-404d-c623-24c70f5fb3ca"
      },
      "source": [
        "model = LinearRegression()\n",
        "\n",
        "model.fit(x,y)\n",
        "print('Coefficients: ', model.coef_)"
      ],
      "id": "thousand-david",
      "execution_count": null,
      "outputs": [
        {
          "output_type": "stream",
          "text": [
            "Coefficients:  [-0.4093709]\n"
          ],
          "name": "stdout"
        }
      ]
    },
    {
      "cell_type": "markdown",
      "metadata": {
        "id": "casual-laptop"
      },
      "source": [
        "**4) Evaluation du modele sur l'ensemble d'apprentissage**  "
      ],
      "id": "casual-laptop"
    },
    {
      "cell_type": "code",
      "metadata": {
        "id": "preliminary-passenger",
        "colab": {
          "base_uri": "https://localhost:8080/"
        },
        "outputId": "8cf2f774-068b-4493-a05f-5c1ec9765cda"
      },
      "source": [
        "y_pred = model.predict(x)\n",
        "print('Mean squared error: %.2f' % mean_squared_error(y, y_pred))\n",
        "print('Coefficient of determination: %.2f\\n' % r2_score(y, y_pred))"
      ],
      "id": "preliminary-passenger",
      "execution_count": null,
      "outputs": [
        {
          "output_type": "stream",
          "text": [
            "Mean squared error: 4.50\n",
            "Coefficient of determination: 0.99\n",
            "\n"
          ],
          "name": "stdout"
        }
      ]
    },
    {
      "cell_type": "markdown",
      "metadata": {
        "id": "sticky-strike"
      },
      "source": [
        "**5) Visualisation et Interprétation**  "
      ],
      "id": "sticky-strike"
    },
    {
      "cell_type": "code",
      "metadata": {
        "id": "loose-drinking",
        "colab": {
          "base_uri": "https://localhost:8080/",
          "height": 295
        },
        "outputId": "4855e382-8f9e-402a-da44-e4fdde0201ce"
      },
      "source": [
        "# 6) visualization: train-set\n",
        "plt.scatter(x, y, color='black')\n",
        "plt.plot(x, y_pred, color='blue', linewidth=3)\n",
        "plt.xlabel('x')\n",
        "plt.ylabel('y')\n",
        "plt.title('Regression (train)')\n",
        "plt.show()"
      ],
      "id": "loose-drinking",
      "execution_count": null,
      "outputs": [
        {
          "output_type": "display_data",
          "data": {
            "image/png": "[encoded data removed]",
            "text/plain": [
              "<Figure size 432x288 with 1 Axes>"
            ]
          },
          "metadata": {
            "tags": [],
            "needs_background": "light"
          }
        }
      ]
    },
    {
      "cell_type": "markdown",
      "metadata": {
        "id": "Ogi_h-hfWsJ-"
      },
      "source": [
        "6) Evaluation du modele sur l'ensemble de test"
      ],
      "id": "Ogi_h-hfWsJ-"
    },
    {
      "cell_type": "code",
      "metadata": {
        "colab": {
          "base_uri": "https://localhost:8080/"
        },
        "id": "5gTJ-MSRW0Qd",
        "outputId": "f991eb81-e80d-41bf-ba4c-2315b993f90a"
      },
      "source": [
        "x, y = get_data(test) \n",
        "x = x.reshape(-1, 1)\n",
        "y_pred = model.predict(x)\n",
        "print('Mean squared error: %.2f' % mean_squared_error(y, y_pred))\n",
        "print('Coefficient of determination: %.2f\\n' % r2_score(y, y_pred))"
      ],
      "id": "5gTJ-MSRW0Qd",
      "execution_count": null,
      "outputs": [
        {
          "output_type": "stream",
          "text": [
            "Mean squared error: 40.42\n",
            "Coefficient of determination: 0.61\n",
            "\n"
          ],
          "name": "stdout"
        }
      ]
    },
    {
      "cell_type": "code",
      "metadata": {
        "id": "atgZ7wyYXFh0",
        "colab": {
          "base_uri": "https://localhost:8080/",
          "height": 295
        },
        "outputId": "80f1c462-0a02-4126-aaff-5118e77c5677"
      },
      "source": [
        "# 6) visualization: test-set\n",
        "plt.scatter(x, y, color='black')\n",
        "plt.plot(x, y_pred, color='blue', linewidth=3)\n",
        "plt.xlabel('x')\n",
        "plt.ylabel('y')\n",
        "plt.title('Regression (train)')\n",
        "plt.show()"
      ],
      "id": "atgZ7wyYXFh0",
      "execution_count": null,
      "outputs": [
        {
          "output_type": "display_data",
          "data": {
            "image/png": "[encoded data removed]",
            "text/plain": [
              "<Figure size 432x288 with 1 Axes>"
            ]
          },
          "metadata": {
            "tags": [],
            "needs_background": "light"
          }
        }
      ]
    },
    {
      "cell_type": "code",
      "metadata": {
        "colab": {
          "base_uri": "https://localhost:8080/"
        },
        "id": "B7xETBp6T9gp",
        "outputId": "e97aaa08-b8df-45a5-ad9a-71c8e6d1e18d"
      },
      "source": [
        "plt.scatter(x,y,color=\"black\")\n",
        "plt.scatter(x,y_pred,color=\"blue\")"
      ],
      "id": "B7xETBp6T9gp",
      "execution_count": null,
      "outputs": [
        {
          "output_type": "error",
          "ename": "NameError",
          "evalue": "ignored",
          "traceback": [
            "\u001b[0;31m---------------------------------------------------------------------------\u001b[0m",
            "\u001b[0;31mNameError\u001b[0m                                 Traceback (most recent call last)",
            "\u001b[0;32m<ipython-input-1-32584a20788b>\u001b[0m in \u001b[0;36m<module>\u001b[0;34m()\u001b[0m\n\u001b[0;32m----> 1\u001b[0;31m \u001b[0mplt\u001b[0m\u001b[0;34m.\u001b[0m\u001b[0mscatter\u001b[0m\u001b[0;34m(\u001b[0m\u001b[0mx\u001b[0m\u001b[0;34m,\u001b[0m\u001b[0my\u001b[0m\u001b[0;34m,\u001b[0m\u001b[0mcolor\u001b[0m\u001b[0;34m=\u001b[0m\u001b[0;34m\"black\"\u001b[0m\u001b[0;34m)\u001b[0m\u001b[0;34m\u001b[0m\u001b[0;34m\u001b[0m\u001b[0m\n\u001b[0m\u001b[1;32m      2\u001b[0m \u001b[0mplt\u001b[0m\u001b[0;34m.\u001b[0m\u001b[0mscatter\u001b[0m\u001b[0;34m(\u001b[0m\u001b[0mx\u001b[0m\u001b[0;34m,\u001b[0m\u001b[0my_pred\u001b[0m\u001b[0;34m,\u001b[0m\u001b[0mcolor\u001b[0m\u001b[0;34m=\u001b[0m\u001b[0;34m\"blue\"\u001b[0m\u001b[0;34m)\u001b[0m\u001b[0;34m\u001b[0m\u001b[0;34m\u001b[0m\u001b[0m\n",
            "\u001b[0;31mNameError\u001b[0m: name 'plt' is not defined"
          ]
        }
      ]
    }
  ]
}