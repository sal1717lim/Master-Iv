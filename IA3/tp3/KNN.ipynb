{
  "nbformat": 4,
  "nbformat_minor": 0,
  "metadata": {
    "colab": {
      "name": "KNN.ipynb",
      "provenance": [],
      "collapsed_sections": []
    },
    "kernelspec": {
      "name": "python3",
      "display_name": "Python 3"
    }
  },
  "cells": [
    {
      "cell_type": "markdown",
      "metadata": {
        "id": "XLloMmjyBQZH"
      },
      "source": [
        "### **TP3 KNN**"
      ]
    },
    {
      "cell_type": "code",
      "metadata": {
        "id": "CJupZTlgBPV8"
      },
      "source": [
        "import sklearn.datasets\n",
        "from sklearn.model_selection import train_test_split"
      ],
      "execution_count": null,
      "outputs": []
    },
    {
      "cell_type": "code",
      "metadata": {
        "colab": {
          "base_uri": "https://localhost:8080/"
        },
        "id": "s27Q1Hr7Bzy6",
        "outputId": "974e6e81-530e-4666-d1dd-1606b9e41f2a"
      },
      "source": [
        "dataset=sklearn.datasets.load_digits()\n",
        "print(dataset.DESCR)"
      ],
      "execution_count": null,
      "outputs": [
        {
          "output_type": "stream",
          "text": [
            ".. _digits_dataset:\n",
            "\n",
            "Optical recognition of handwritten digits dataset\n",
            "--------------------------------------------------\n",
            "\n",
            "**Data Set Characteristics:**\n",
            "\n",
            "    :Number of Instances: 5620\n",
            "    :Number of Attributes: 64\n",
            "    :Attribute Information: 8x8 image of integer pixels in the range 0..16.\n",
            "    :Missing Attribute Values: None\n",
            "    :Creator: E. Alpaydin (alpaydin '@' boun.edu.tr)\n",
            "    :Date: July; 1998\n",
            "\n",
            "This is a copy of the test set of the UCI ML hand-written digits datasets\n",
            "https://archive.ics.uci.edu/ml/datasets/Optical+Recognition+of+Handwritten+Digits\n",
            "\n",
            "The data set contains images of hand-written digits: 10 classes where\n",
            "each class refers to a digit.\n",
            "\n",
            "Preprocessing programs made available by NIST were used to extract\n",
            "normalized bitmaps of handwritten digits from a preprinted form. From a\n",
            "total of 43 people, 30 contributed to the training set and different 13\n",
            "to the test set. 32x32 bitmaps are divided into nonoverlapping blocks of\n",
            "4x4 and the number of on pixels are counted in each block. This generates\n",
            "an input matrix of 8x8 where each element is an integer in the range\n",
            "0..16. This reduces dimensionality and gives invariance to small\n",
            "distortions.\n",
            "\n",
            "For info on NIST preprocessing routines, see M. D. Garris, J. L. Blue, G.\n",
            "T. Candela, D. L. Dimmick, J. Geist, P. J. Grother, S. A. Janet, and C.\n",
            "L. Wilson, NIST Form-Based Handprint Recognition System, NISTIR 5469,\n",
            "1994.\n",
            "\n",
            ".. topic:: References\n",
            "\n",
            "  - C. Kaynak (1995) Methods of Combining Multiple Classifiers and Their\n",
            "    Applications to Handwritten Digit Recognition, MSc Thesis, Institute of\n",
            "    Graduate Studies in Science and Engineering, Bogazici University.\n",
            "  - E. Alpaydin, C. Kaynak (1998) Cascading Classifiers, Kybernetika.\n",
            "  - Ken Tang and Ponnuthurai N. Suganthan and Xi Yao and A. Kai Qin.\n",
            "    Linear dimensionalityreduction using relevance weighted LDA. School of\n",
            "    Electrical and Electronic Engineering Nanyang Technological University.\n",
            "    2005.\n",
            "  - Claudio Gentile. A New Approximate Maximal Margin Classification\n",
            "    Algorithm. NIPS. 2000.\n"
          ],
          "name": "stdout"
        }
      ]
    },
    {
      "cell_type": "markdown",
      "metadata": {
        "id": "EZnGcNKjCXE4"
      },
      "source": [
        "La taille de cette dataset:5620\n",
        "\n",
        "Le nombre de classe de cette dataset:10\n",
        "\n",
        "Le nombre d'attribut de cette dataset:64\n"
      ]
    },
    {
      "cell_type": "code",
      "metadata": {
        "id": "X-7ImdrhC7NS"
      },
      "source": [
        "train_x,test_x,train_y,test_y=train_test_split(dataset.images,dataset.target)\n",
        "\n",
        "#train_test_split a par defaut la config 70% 30%\n",
        "\n",
        "nsamples, nx, ny = train_x.shape\n",
        "train_x = train_x.reshape((nsamples,nx*ny))\n",
        "\n",
        "nsamples, nx, ny = test_x.shape\n",
        "test_x =test_x.reshape((nsamples,nx*ny))"
      ],
      "execution_count": null,
      "outputs": []
    },
    {
      "cell_type": "code",
      "metadata": {
        "colab": {
          "base_uri": "https://localhost:8080/"
        },
        "id": "cP9lDc44Eoq6",
        "outputId": "c0c3119f-4085-4944-b372-ac10c6accb6c"
      },
      "source": [
        "from sklearn.neighbors import KNeighborsClassifier\n",
        "import time\n",
        "start_time = time.time()\n",
        "# Instructions\n",
        "\n",
        "model=KNeighborsClassifier(3)\n",
        "\n",
        "model.fit(train_x,train_y)\n",
        "y_pred=model.predict(test_x)\n",
        "from sklearn.metrics import recall_score, precision_score\n",
        "print(\"precision:\"+str(recall_score(test_y, y_pred,average='micro')))\n",
        "print(\"recall:\"+str(precision_score(test_y, y_pred,average='micro')))\n",
        "print(\"--- %s seconds ---\" % (time.time() - start_time))"
      ],
      "execution_count": null,
      "outputs": [
        {
          "output_type": "stream",
          "text": [
            "precision:0.9955555555555555\n",
            "recall:0.9955555555555555\n",
            "--- 0.0958106517791748 seconds ---\n"
          ],
          "name": "stdout"
        }
      ]
    },
    {
      "cell_type": "markdown",
      "metadata": {
        "id": "Ann7OKkRI839"
      },
      "source": [
        "Variation de K"
      ]
    },
    {
      "cell_type": "code",
      "metadata": {
        "colab": {
          "base_uri": "https://localhost:8080/"
        },
        "id": "tUaKVYOGI8k6",
        "outputId": "aa94cae5-f1e0-4d1e-a0e9-01dddc2bd550"
      },
      "source": [
        "x=[]\n",
        "p=[]\n",
        "\n",
        "for i in range(1,20,2):\n",
        "  start_time = time.time()\n",
        "  model=KNeighborsClassifier(i)\n",
        "  print(\"k=\"+str(i))\n",
        "  model.fit(train_x,train_y)\n",
        "  y_pred=model.predict(test_x)\n",
        "  print(\"precision=\"+str(precision_score(test_y, y_pred,average='micro')))\n",
        "  print(\"recall=\"+str( recall_score(test_y, y_pred,average='micro')))\n",
        "  print(\"--- %s seconds ---\" % (time.time() - start_time))\n",
        "  x.append(i)\n",
        "  p.append(precision_score(test_y, y_pred,average='micro'))\n",
        " "
      ],
      "execution_count": null,
      "outputs": [
        {
          "output_type": "stream",
          "text": [
            "k=1\n",
            "precision=0.9933333333333333\n",
            "recall=0.9933333333333333\n",
            "--- 0.08678817749023438 seconds ---\n",
            "k=3\n",
            "precision=0.9955555555555555\n",
            "recall=0.9955555555555555\n",
            "--- 0.08939743041992188 seconds ---\n",
            "k=5\n",
            "precision=0.9933333333333333\n",
            "recall=0.9933333333333333\n",
            "--- 0.09572792053222656 seconds ---\n",
            "k=7\n",
            "precision=0.9888888888888889\n",
            "recall=0.9888888888888889\n",
            "--- 0.09388232231140137 seconds ---\n",
            "k=9\n",
            "precision=0.9844444444444445\n",
            "recall=0.9844444444444445\n",
            "--- 0.09136104583740234 seconds ---\n",
            "k=11\n",
            "precision=0.9866666666666667\n",
            "recall=0.9866666666666667\n",
            "--- 0.0993647575378418 seconds ---\n",
            "k=13\n",
            "precision=0.9844444444444445\n",
            "recall=0.9844444444444445\n",
            "--- 0.0939631462097168 seconds ---\n",
            "k=15\n",
            "precision=0.9777777777777777\n",
            "recall=0.9777777777777777\n",
            "--- 0.09449553489685059 seconds ---\n",
            "k=17\n",
            "precision=0.9733333333333334\n",
            "recall=0.9733333333333334\n",
            "--- 0.10137009620666504 seconds ---\n",
            "k=19\n",
            "precision=0.9733333333333334\n",
            "recall=0.9733333333333334\n",
            "--- 0.10138535499572754 seconds ---\n"
          ],
          "name": "stdout"
        }
      ]
    },
    {
      "cell_type": "code",
      "metadata": {
        "colab": {
          "base_uri": "https://localhost:8080/",
          "height": 265
        },
        "id": "BHlbjLKYMDFp",
        "outputId": "7f277b6e-bc57-4f84-aa70-f9b6b0f8bd65"
      },
      "source": [
        "import matplotlib.pyplot as plt\n",
        "plt.plot(x,p)\n",
        "plt.show()"
      ],
      "execution_count": null,
      "outputs": [
        {
          "output_type": "display_data",
          "data": {
            "image/png": "[encoded data removed]",
            "text/plain": [
              "<Figure size 432x288 with 1 Axes>"
            ]
          },
          "metadata": {
            "tags": [],
            "needs_background": "light"
          }
        }
      ]
    }
  ]
}